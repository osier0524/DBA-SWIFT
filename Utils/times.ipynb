{
 "cells": [
  {
   "cell_type": "code",
   "execution_count": 4,
   "metadata": {
    "pycharm": {
     "name": "#%%\n"
    }
   },
   "outputs": [],
   "source": [
    "import matplotlib.pyplot as plt\n",
    "import numpy as np\n",
    "import os\n",
    "import sys\n",
    "import tikzplotlib"
   ]
  },
  {
   "cell_type": "code",
   "execution_count": 5,
   "metadata": {
    "pycharm": {
     "name": "#%%\n"
    }
   },
   "outputs": [],
   "source": [
    "def unpack_data(directory_path, datatype='losses.log', epochs=200, num_workers=10):\n",
    "    directory = os.path.join(directory_path)\n",
    "    if not os.path.isdir(directory):\n",
    "        raise Exception(f\"custom no directory {directory}\")\n",
    "    data = np.zeros((epochs, num_workers))\n",
    "    for root, dirs, files in os.walk(directory):\n",
    "        for file in files:\n",
    "            if file.endswith(datatype):\n",
    "                j = int(file.split('-')[0][1:])\n",
    "                with open(directory_path + '/' + file, 'r') as f:\n",
    "                    i = 0\n",
    "                    for line in f:\n",
    "                        data[i, j] = line\n",
    "                        i += 1\n",
    "    return data\n",
    "\n",
    "def time_order(directory_path, epochs=200, num_workers=10):\n",
    "\n",
    "    time_data = unpack_data(directory_path, datatype='total-time.log', epochs=epochs, num_workers=num_workers)\n",
    "    time_data = np.cumsum(time_data/60, axis=0)\n",
    "    time_data = time_data.flatten()\n",
    "    sorted_time = np.argsort(time_data)\n",
    "    selected_workers = sorted_time[(num_workers-1)::num_workers]\n",
    "    time_stamps = time_data[selected_workers]\n",
    "    # print(time_stamps)\n",
    "    \n",
    "    return time_stamps, sorted_time"
   ]
  },
  {
   "cell_type": "code",
   "execution_count": 7,
   "metadata": {
    "pycharm": {
     "name": "#%%\n"
    }
   },
   "outputs": [
    {
     "name": "stdout",
     "output_type": "stream",
     "text": [
      "avg epoch-time, ring, iid, all, 200, 16 workers\n",
      "dsgd 2.241\n",
      "ldsgd 2.172\n",
      "pdsgd 1.982\n",
      "swift 1.367\n",
      "2swift 1.348\n",
      "\n",
      "avg commtime, ring, iid, all, 200, 16 workers\n",
      "dsgd 0.962\n",
      "ldsgd 0.517\n",
      "pdsgd 0.5\n",
      "swift 0.121\n",
      "2swift 0.085\n",
      "\n"
     ]
    }
   ],
   "source": [
    "ntest = 5\n",
    "slowdowns = {\"noslowdown\", \"slowdown2\", \"slowdown4\"}\n",
    "\n",
    "\n",
    "# exp_type defines:\n",
    "# 0: the statistic you want (usually epochtime or commtime)\n",
    "# 1: what graph topology (ring, clique-ring, 2c-clique-ring, 4c-clique-ring)\n",
    "# 2: degree of noniidness or slowdown (noniid-0.25, noniid-0.9, noniid-0.7, noniid-0.5, iid, noslowdown, slowdown2, slowdown4)\n",
    "# 3: over which communication algorithms (all, dsgd)\n",
    "# 4: this is for varying topology for 16 worker ring\n",
    "exp_type = [\"xxx\", \"ring\", \"iid\", \"all\", \"vary\"]\n",
    "# specify number of epochs\n",
    "epochs = 200\n",
    "# specify number of epochs to plot\n",
    "plot_epochs = 200\n",
    "# specify number of workers\n",
    "num_work = 16\n",
    "\n",
    "\n",
    "if exp_type[3] == \"all\":\n",
    "    communicators = ['dsgd', 'ldsgd', 'pdsgd', 'swift', '2swift']\n",
    "    labels = ['D-SGD', 'LD-SGD', 'PA-SGD', 'SWIFT', 'SWIFT (2-SGD)']\n",
    "elif exp_type[3] == \"dsgd\":\n",
    "    communicators = ['dsgd', 'swift']\n",
    "    labels = ['D-SGD', 'SWIFT']\n",
    "else:\n",
    "    print(\"BAD1\")\n",
    "\n",
    "\n",
    "if exp_type[1] == \"ring\" and exp_type[2] == \"iid\":\n",
    "    if exp_type[4] == \"vary\":\n",
    "        base = f\"Random-{num_work}-Ring-VT\"\n",
    "    else:\n",
    "        base = f\"Random-{num_work}-Ring\"\n",
    "elif exp_type[1] == \"clique-ring\" and exp_type[2][:6] == \"noniid\":\n",
    "    base = f\"Random-{num_work}-{exp_type[2][7:]}-Noniid\"\n",
    "elif exp_type[1] == \"2c-clique-ring\":\n",
    "    base = f\"Random-{num_work}-ROC/2Cluster\"\n",
    "elif exp_type[1] == \"4c-clique-ring\":\n",
    "    base = f\"Random-{num_work}-ROC/4Cluster\"\n",
    "elif exp_type[1] == \"ring\" and exp_type[2] in slowdowns:\n",
    "    base = f\"Slowdown-{num_work}-Ring\"\n",
    "else:\n",
    "    print(\"BAD2\")\n",
    "\n",
    "\n",
    "log_type = [\"epoch-time\", \"commtime\"]\n",
    "\n",
    "for l in log_type:\n",
    "    over_all = {}\n",
    "    exp_type[0] = l\n",
    "    for comm in communicators:\n",
    "        per_worker = []\n",
    "    \n",
    "        for t in range(1, ntest + 1):\n",
    "            filename = f\"Output/{base}/{comm}-{exp_type[2]}-test{t}-{num_work}W-{exp_type[1]}-1sgd-{epochs}epochs\"\n",
    "            if exp_type[2] in slowdowns:\n",
    "                if comm == \"swift\":\n",
    "                    filename = f\"Output/{base}/swift-{exp_type[2]}-test{t}-{num_work}W-{exp_type[1]}-1sgd-{epochs}epochs\"\n",
    "                elif comm == \"2swift\":\n",
    "                    filename = f\"Output/{base}/swift-{exp_type[2]}-test{t}-{num_work}W-{exp_type[1]}-2sgd-{epochs}epochs\"\n",
    "            else:\n",
    "                if comm == \"swift\":\n",
    "                    filename = f\"Output/{base}/swift-{exp_type[2]}-test{t}-{num_work}W-no_mem-{exp_type[1]}-1sgd-{epochs}epochs\"\n",
    "                elif comm == \"2swift\":\n",
    "                    filename = f\"Output/{base}/swift-{exp_type[2]}-test{t}-{num_work}W-no_mem-{exp_type[1]}-2sgd-{epochs}epochs\"\n",
    "            worker_stat = unpack_data(filename, datatype=f\"{exp_type[0]}.log\", epochs=epochs, num_workers=num_work)\n",
    "            per_worker.append(worker_stat.mean())\n",
    "        over_all[comm] = np.array(per_worker).mean()\n",
    "    \n",
    "    print(f\"avg {exp_type[0]}, {exp_type[1]}, {exp_type[2]}, {exp_type[3]}, {epochs}, {num_work} workers\")\n",
    "    for k in over_all:\n",
    "        print(k, round(over_all[k], 3))\n",
    "    print()"
   ]
  },
  {
   "cell_type": "code",
   "execution_count": 6,
   "metadata": {
    "pycharm": {
     "name": "#%%\n"
    }
   },
   "outputs": [],
   "source": []
  }
 ],
 "metadata": {
  "interpreter": {
   "hash": "1deb045dae22b0e968ee32e452f22b0a012d08f6ba8814422bb497ba872adcaf"
  },
  "kernelspec": {
   "display_name": "Python 3.8.2 ('feddec')",
   "language": "python",
   "name": "python3"
  },
  "language_info": {
   "codemirror_mode": {
    "name": "ipython",
    "version": 3
   },
   "file_extension": ".py",
   "mimetype": "text/x-python",
   "name": "python",
   "nbconvert_exporter": "python",
   "pygments_lexer": "ipython3",
   "version": "3.8.2"
  },
  "orig_nbformat": 4
 },
 "nbformat": 4,
 "nbformat_minor": 2
}