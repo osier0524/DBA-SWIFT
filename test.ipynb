{
 "cells": [
  {
   "cell_type": "code",
   "execution_count": 2,
   "metadata": {},
   "outputs": [
    {
     "name": "stderr",
     "output_type": "stream",
     "text": [
      "0.0%"
     ]
    },
    {
     "name": "stdout",
     "output_type": "stream",
     "text": [
      "Downloading https://www.cs.toronto.edu/~kriz/cifar-100-python.tar.gz to Data/cifar-100-python.tar.gz\n"
     ]
    },
    {
     "name": "stderr",
     "output_type": "stream",
     "text": [
      "100.0%\n"
     ]
    },
    {
     "name": "stdout",
     "output_type": "stream",
     "text": [
      "Extracting Data/cifar-100-python.tar.gz to Data/\n"
     ]
    }
   ],
   "source": [
    "import torchvision\n",
    "\n",
    "url = \"https://www.cs.toronto.edu/~kriz/cifar-100-python.tar.gz\"\n",
    "filename = \"cifar-100-python.tar.gz\"\n",
    "tgz_md5 = \"eb9058c3a382ffc7106e4002c42a8d85\"\n",
    "datasetRoot = \"Data/\"\n",
    "\n",
    "torchvision.datasets.utils.download_and_extract_archive(url, datasetRoot, filename=filename, md5=tgz_md5)\n"
   ]
  },
  {
   "cell_type": "code",
   "execution_count": 1,
   "metadata": {},
   "outputs": [],
   "source": [
    "def unpickle(file):\n",
    "    with open(file, 'rb') as fo:\n",
    "        dict = pickle.load(fo, encoding='bytes')\n",
    "    return dict"
   ]
  },
  {
   "cell_type": "code",
   "execution_count": 19,
   "metadata": {},
   "outputs": [],
   "source": [
    "import pickle\n",
    "import torchvision\n",
    "from PIL import Image\n",
    "from torchvision import transforms\n",
    "\n",
    "def load_external_image(target_dataset, class_type, original_label):\n",
    "    dict = unpickle(\"Data/cifar-100-python/train\")\n",
    "    labels = unpickle(\"Data/cifar-100-python/meta\")\n",
    "    # get the data of the first picture whose label is the same as the original label\n",
    "    images = []\n",
    "    if class_type == b\"fine_labels\":\n",
    "        target_label_index = labels[b'fine_label_names'].index(original_label)\n",
    "    else:\n",
    "        target_label_index = labels[b'coarse_label_names'].index(original_label)\n",
    "    \n",
    "    for i in range(len(dict[class_type])):\n",
    "        if dict[class_type][i] == target_label_index:\n",
    "            img_data = dict[b'data'][i]\n",
    "            img_data = img_data.reshape(3, 32, 32).transpose(1, 2, 0)\n",
    "            img = Image.fromarray(img_data)\n",
    "            images.append(img)\n",
    "    \n",
    "    img = Image.fromarray(img_data)\n",
    "\n",
    "    if target_dataset == \"cifar10\":\n",
    "        transform = transforms.Compose([\n",
    "            transforms.Resize((32, 32)),\n",
    "            transforms.ToTensor(),\n",
    "            transforms.Normalize((0.4914, 0.4822, 0.4465), (0.2023, 0.1994, 0.2010))\n",
    "        ])\n",
    "    transformed_images = [transform(img) for img in images]\n",
    "    return transformed_images"
   ]
  },
  {
   "cell_type": "code",
   "execution_count": 21,
   "metadata": {},
   "outputs": [],
   "source": [
    "imgs = load_external_image(\"cifar10\", b'fine_labels', b'shark')"
   ]
  },
  {
   "cell_type": "code",
   "execution_count": 22,
   "metadata": {},
   "outputs": [
    {
     "data": {
      "text/plain": [
       "500"
      ]
     },
     "execution_count": 22,
     "metadata": {},
     "output_type": "execute_result"
    }
   ],
   "source": [
    "len(imgs)"
   ]
  },
  {
   "cell_type": "code",
   "execution_count": 5,
   "metadata": {},
   "outputs": [],
   "source": [
    "dict = load_external_image('Data/cifar-100-python/train', \"cifar100\", \"cifar100\")"
   ]
  },
  {
   "cell_type": "code",
   "execution_count": 7,
   "metadata": {},
   "outputs": [
    {
     "name": "stdout",
     "output_type": "stream",
     "text": [
      "b'filenames'\n",
      "b'batch_label'\n",
      "b'fine_labels'\n",
      "b'coarse_labels'\n",
      "b'data'\n"
     ]
    }
   ],
   "source": [
    "for key in dict.keys():\n",
    "    print(key)"
   ]
  },
  {
   "cell_type": "code",
   "execution_count": 11,
   "metadata": {},
   "outputs": [],
   "source": [
    "label = unpickle('Data/cifar-100-python/meta')"
   ]
  },
  {
   "cell_type": "code",
   "execution_count": 12,
   "metadata": {},
   "outputs": [
    {
     "name": "stdout",
     "output_type": "stream",
     "text": [
      "b'fine_label_names'\n",
      "b'coarse_label_names'\n"
     ]
    }
   ],
   "source": [
    "for key in label.keys():\n",
    "    print(key)"
   ]
  },
  {
   "cell_type": "code",
   "execution_count": 15,
   "metadata": {},
   "outputs": [
    {
     "data": {
      "text/plain": [
       "73"
      ]
     },
     "execution_count": 15,
     "metadata": {},
     "output_type": "execute_result"
    }
   ],
   "source": [
    "# get the index of label shark\n",
    "label[b'fine_label_names'].index(b'shark')"
   ]
  },
  {
   "cell_type": "code",
   "execution_count": 2,
   "metadata": {},
   "outputs": [
    {
     "name": "stdout",
     "output_type": "stream",
     "text": [
      "Train size: 38, Test size: 10\n",
      "Accuracy: 100.0%\n"
     ]
    }
   ],
   "source": [
    "import PoisonDetector\n",
    "\n",
    "PoisonDetector.test()"
   ]
  },
  {
   "cell_type": "code",
   "execution_count": null,
   "metadata": {},
   "outputs": [],
   "source": []
  }
 ],
 "metadata": {
  "kernelspec": {
   "display_name": ".venv",
   "language": "python",
   "name": "python3"
  },
  "language_info": {
   "codemirror_mode": {
    "name": "ipython",
    "version": 3
   },
   "file_extension": ".py",
   "mimetype": "text/x-python",
   "name": "python",
   "nbconvert_exporter": "python",
   "pygments_lexer": "ipython3",
   "version": "3.9.6"
  }
 },
 "nbformat": 4,
 "nbformat_minor": 2
}
