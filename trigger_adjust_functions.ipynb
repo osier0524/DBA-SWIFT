{
 "cells": [
  {
   "cell_type": "code",
   "execution_count": 1,
   "metadata": {},
   "outputs": [],
   "source": [
    "def shift_coordinates(coordinates, shift):\n",
    "    shifted_coordinates = [[x + shift, y + shift] for x, y in coordinates]\n",
    "    return shifted_coordinates"
   ]
  },
  {
   "cell_type": "code",
   "execution_count": 2,
   "metadata": {},
   "outputs": [],
   "source": [
    "coordinates = [ [0, 0], [0, 1], [0, 2], [0, 3], [0, 4], [0, 5],\n",
    "                    [0, 9], [0, 10], [0, 11], [0, 12], [0, 13], [0, 14],\n",
    "                    [4, 0], [4, 1], [4, 2], [4, 3], [4, 4], [4, 5],\n",
    "                    [4, 9], [4, 10], [4, 11], [4, 12], [4, 13], [4, 14]]"
   ]
  },
  {
   "cell_type": "code",
   "execution_count": 22,
   "metadata": {},
   "outputs": [
    {
     "name": "stdout",
     "output_type": "stream",
     "text": [
      " [12, 12], [12, 13], [12, 14], [12, 15], [12, 16], [12, 17],\n",
      " [12, 21], [12, 22], [12, 23], [12, 24], [12, 25], [12, 26],\n",
      " [16, 12], [16, 13], [16, 14], [16, 15], [16, 16], [16, 17],\n",
      " [16, 21], [16, 22], [16, 23], [16, 24], [16, 25], [16, 26],\n"
     ]
    }
   ],
   "source": [
    "shifted_coordinates = shift_coordinates(coordinates, 12)\n",
    "for i, coord in enumerate(shifted_coordinates):\n",
    "    print(f\" {coord},\", end=\"\")\n",
    "    if (i + 1) % 6 == 0:\n",
    "        print()"
   ]
  },
  {
   "cell_type": "code",
   "execution_count": 26,
   "metadata": {},
   "outputs": [],
   "source": [
    "def generate_pattern_by_size(size):\n",
    "    coordinates = []\n",
    "    row_starts = [0, 4]\n",
    "    for row in row_starts:\n",
    "        for i in range(size):\n",
    "            coordinates.append([row, i])\n",
    "        for i in range(size):\n",
    "            coordinates.append([row, i + 3 + size])\n",
    "            \n",
    "    return coordinates"
   ]
  },
  {
   "cell_type": "code",
   "execution_count": 39,
   "metadata": {},
   "outputs": [
    {
     "name": "stdout",
     "output_type": "stream",
     "text": [
      " [0, 0], [0, 1], [0, 2], [0, 3], [0, 4], [0, 5], [0, 6], [0, 7], [0, 8], [0, 9], [0, 10], [0, 11],\n",
      " [0, 15], [0, 16], [0, 17], [0, 18], [0, 19], [0, 20], [0, 21], [0, 22], [0, 23], [0, 24], [0, 25], [0, 26],\n",
      " [4, 0], [4, 1], [4, 2], [4, 3], [4, 4], [4, 5], [4, 6], [4, 7], [4, 8], [4, 9], [4, 10], [4, 11],\n",
      " [4, 15], [4, 16], [4, 17], [4, 18], [4, 19], [4, 20], [4, 21], [4, 22], [4, 23], [4, 24], [4, 25], [4, 26],\n"
     ]
    }
   ],
   "source": [
    "size = 12\n",
    "coordinates = generate_pattern_by_size(size)\n",
    "\n",
    "for i, coord in enumerate(coordinates):\n",
    "    print(f\" {coord},\", end=\"\")\n",
    "    if (i + 1) % size == 0:\n",
    "        print()"
   ]
  },
  {
   "cell_type": "code",
   "execution_count": null,
   "metadata": {},
   "outputs": [],
   "source": []
  }
 ],
 "metadata": {
  "kernelspec": {
   "display_name": ".venv",
   "language": "python",
   "name": "python3"
  },
  "language_info": {
   "codemirror_mode": {
    "name": "ipython",
    "version": 3
   },
   "file_extension": ".py",
   "mimetype": "text/x-python",
   "name": "python",
   "nbconvert_exporter": "python",
   "pygments_lexer": "ipython3",
   "version": "3.9.6"
  }
 },
 "nbformat": 4,
 "nbformat_minor": 2
}
