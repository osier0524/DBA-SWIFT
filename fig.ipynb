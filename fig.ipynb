{
 "cells": [
  {
   "cell_type": "code",
   "execution_count": null,
   "metadata": {},
   "outputs": [],
   "source": [
    "import matplotlib.pyplot as plt\n",
    "folder = \"Output/swift-iid-test1-8W-no_mem-multi-200-ring-2sgd-200epochs/\"\n",
    "filenames = [f\"r{i}-tacc-poison.log\" for i in range(1, 11)]\n",
    "\n",
    "data = {f\"node{i}\": [] for i in range(1, 11)}\n",
    "\n",
    "for i, filename in enumerate(filenames, 1):\n",
    "    with open(filename, 'r') as file:\n",
    "        data[f\"node{i}\"] = [float(line.strip()) for line in file if line.strip()]\n",
    "\n",
    "plt.figure(figsize=(10, 6))\n",
    "for node, values in data.items():\n",
    "    plt.plot(values, label=node)\n",
    "\n",
    "plt.xlabel('epoch')\n",
    "plt.ylabel('poison_acc')\n",
    "plt.legend()\n",
    "plt.show()\n"
   ]
  },
  {
   "cell_type": "code",
   "execution_count": null,
   "metadata": {},
   "outputs": [],
   "source": []
  }
 ],
 "metadata": {
  "language_info": {
   "name": "python"
  }
 },
 "nbformat": 4,
 "nbformat_minor": 2
}
